{
 "cells": [
  {
   "cell_type": "code",
   "execution_count": 5,
   "metadata": {},
   "outputs": [
    {
     "name": "stdout",
     "output_type": "stream",
     "text": [
      "Please inter the number 2222222222\n",
      "Ahmed\n"
     ]
    }
   ],
   "source": [
    "numbers = {'Deema': \"1111111111\" ,'Ahmed': \"2222222222\" , 'Asmaa': \"3333333333\" ,'Roa': \"4444444444\",\n",
    "          'Sulatn': \"5555555555\",'Naif': \"6666666666\",'Reem': \"7777777777\"}  # phon book dec\n",
    "number = input(\"Please inter the number \")\n",
    "isFound = False\n",
    "if len(number) == 10 and  number.isnumeric() == True:\n",
    "    for key, value in numbers.items(): #for loop through kyes and value of dec\n",
    "        if number == value:\n",
    "         isFound = True\n",
    "         print(key)\n",
    "         break\n",
    "    if isFound == False:\n",
    "     print(\"Sorry, the number is not found\")\n",
    "        \n",
    "else: #if the number contains letters or symbols\n",
    "    print (\"This is invalid number\")"
   ]
  },
  {
   "cell_type": "code",
   "execution_count": null,
   "metadata": {},
   "outputs": [],
   "source": []
  }
 ],
 "metadata": {
  "kernelspec": {
   "display_name": "Python 3",
   "language": "python",
   "name": "python3"
  },
  "language_info": {
   "codemirror_mode": {
    "name": "ipython",
    "version": 3
   },
   "file_extension": ".py",
   "mimetype": "text/x-python",
   "name": "python",
   "nbconvert_exporter": "python",
   "pygments_lexer": "ipython3",
   "version": "3.7.6"
  }
 },
 "nbformat": 4,
 "nbformat_minor": 4
}
